{
  "nbformat": 4,
  "nbformat_minor": 0,
  "metadata": {
    "colab": {
      "provenance": [],
      "authorship_tag": "ABX9TyOKYm7+N0J1LWKYdd78K4h2",
      "include_colab_link": true
    },
    "kernelspec": {
      "name": "python3",
      "display_name": "Python 3"
    },
    "language_info": {
      "name": "python"
    }
  },
  "cells": [
    {
      "cell_type": "markdown",
      "metadata": {
        "id": "view-in-github",
        "colab_type": "text"
      },
      "source": [
        "<a href=\"https://colab.research.google.com/github/gaciuki2402/Rule_Based_Bot/blob/main/Rule_Based_Bot.ipynb\" target=\"_parent\"><img src=\"https://colab.research.google.com/assets/colab-badge.svg\" alt=\"Open In Colab\"/></a>"
      ]
    },
    {
      "cell_type": "code",
      "execution_count": 1,
      "metadata": {
        "id": "0QdoYGLfdboU"
      },
      "outputs": [],
      "source": [
        "import re\n",
        "import random\n"
      ]
    },
    {
      "cell_type": "code",
      "source": [
        "class RuleBot:\n",
        "  ### Potential Negative Responses\n",
        "  negative_responses = (\"no\", \"nope.\", \"nah\", \"not a chance\", \"naw\", \"sorry\")\n",
        "  ###Exit conversation keywords\n",
        "  exit_commands = (\"bye\", \"goodbye\", \"quit\", \"exit\", \"pause\", \"later\")\n",
        "  ###Random starter question\n",
        "  random_questions = (\n",
        "      \"Why are you here?\",\n",
        "      \"Are there many humans like you?\",\n",
        "      \"What do you consume for substance?\",\n",
        "      \"Is there intelligent life on thus planet?\",\n",
        "      \"Does earth has a leader?\",\n",
        "      \"What planets have you visited?\" ,\n",
        "      \"What technology do you have on this planet?\"\n",
        "  )\n",
        "  def __init__(self):\n",
        "    self.alienbabble = {'describe_planet_intent': r'.*\\s*your planet.*',\n",
        "                          'answer_why_intent': r'.why\\sare.*',\n",
        "                          'about_intellipat': r'.*\\s*intellipat',\n",
        "                          'about_session': r'.*\\s*session'\n",
        "                        }\n",
        "  def greet(self):\n",
        "    self.name = input(\"What's your name?\\n\")\n",
        "    will_help = input(\n",
        "        f\"Hi {self.name}, I am Rule Bot. Will you help me learn about your planet?\\n\")\n",
        "    if will_help in self.negative_responses:\n",
        "      print(\"Ok, have a nice Earth day !\")\n",
        "      return\n",
        "    self.chat()\n",
        "\n",
        "  def make_exit(self, reply):\n",
        "    for command in self.exit_commands:\n",
        "      if reply == command:\n",
        "        print(\"Ok, have a nice Earth day !\")\n",
        "        return True\n",
        "\n",
        "  def chat(self):\n",
        "    reply = input(random.choice(self.random_questions)).lower()\n",
        "    while not self.make_exit(reply):\n",
        "      reply = input(self.match_reply(reply)).lower()\n",
        "\n",
        "  def match_reply(self, reply):\n",
        "    for key, value in self.alienbabble.items():\n",
        "      intent = key\n",
        "      regex_pattern = value\n",
        "      found_match = re.search(regex_pattern, reply)\n",
        "      if found_match and intent == 'describe_planet_intent':\n",
        "        return self.describe_planet()\n",
        "      elif found_match and intent == 'answer_why_intent':\n",
        "        return self.answer_why()\n",
        "      elif found_match and intent == 'about_intellipat':\n",
        "        return self.about_intellipat()\n",
        "      elif found_match and intent == 'about_session':\n",
        "        return self.about_session()\n",
        "    if not found_match:\n",
        "      return self.no_match_intent()\n",
        "\n",
        "  def describe_planet(self):\n",
        "    responses = (\"My planet is a utopia of diverse organisms and species.\\n\",\n",
        "                 \"I am fro Opidipus, the capital of the keyward Galaxies.\\n\")\n",
        "    return random.choice(responses)\n",
        "\n",
        "  def answer_why_intent(self):\n",
        "    responses = (\"I come in peace\\n\", \"I am here to collect data on your planet and its inhabitants.\\n\",\n",
        "                 \"I heard the coffe is good\\n\")\n",
        "    return random.choice(responses)\n",
        "  def about_intellipat(self):\n",
        "    responses = (\"Intellipat is world's largest professional company\\n\", \"Intellipat will make you learn concepts in your planet.\\n\",\n",
        "                 \"Intellipat is where your career and skill grows\\n\")\n",
        "    return random.choice(responses)\n",
        "  def about_session(self):\n",
        "    responses = (\"Session is on 14th August 2024 \\n\", \"Session was cool!\")\n",
        "    return random.choice(responses)\n",
        "\n",
        "  def no_match_intent(self):\n",
        "    responses = (\n",
        "        \"Please tell me more.\\n\",\"Tell me more.\\n\", \"Why do you say that?\\n\", \"I see. Can you elaborate?\\n\",\n",
        "        \"Interesting. Can you tell me more?\\n\", \"I see. How do you think?\\n\", \"Why?\\n\", \"How do you think i feel when you say that?\\n\")\n",
        "    return random.choice(responses)\n",
        "\n",
        "AlienBot = RuleBot()\n",
        "AlienBot.greet()"
      ],
      "metadata": {
        "colab": {
          "base_uri": "https://localhost:8080/"
        },
        "id": "1FtycV5E6i5W",
        "outputId": "7bf7acc3-1191-43c8-a675-5b61e377e9a0"
      },
      "execution_count": 8,
      "outputs": [
        {
          "output_type": "stream",
          "name": "stdout",
          "text": [
            "What's your name?\n",
            "grace\n",
            "Hi grace, I am Rule Bot. Will you help me learn about your planet?\n",
            "yes\n",
            "Why are you here?tell me about session\n",
            "Session is on 14th August 2024 \n",
            "what else\n",
            "Interesting. Can you tell me more?\n",
            "i am bored\n",
            "Please tell me more.\n",
            "i had nothing to do since morning\n",
            "Interesting. Can you tell me more?\n",
            "horrible\n",
            "Why do you say that?\n",
            "horrible is not good\n",
            "Why do you say that?\n",
            "i did alot work\n",
            "I see. How do you think?\n",
            "good\n",
            "Please tell me more.\n",
            "quit\n",
            "Ok, have a nice Earth day !\n"
          ]
        }
      ]
    },
    {
      "cell_type": "code",
      "source": [],
      "metadata": {
        "id": "1Gm8VkWd6jG9"
      },
      "execution_count": null,
      "outputs": []
    }
  ]
}